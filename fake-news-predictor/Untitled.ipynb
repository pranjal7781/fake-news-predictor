{
 "cells": [
  {
   "cell_type": "code",
   "execution_count": 13,
   "id": "90a5997f-f601-499c-b421-c9b4b559632b",
   "metadata": {},
   "outputs": [],
   "source": [
    "import pickle\n",
    "\n",
    "# Load the trained model\n",
    "with open('models/fake_news_model.pkl', 'rb') as model_file:\n",
    "    model = pickle.load(model_file)\n",
    "\n",
    "# Load the TF-IDF vectorizer\n",
    "with open('models/tfidf_vectorizer.pkl', 'rb') as vectorizer_file:\n",
    "    tfidf = pickle.load(vectorizer_file)"
   ]
  },
  {
   "cell_type": "code",
   "execution_count": 15,
   "id": "0f746feb-2648-4cf4-a8b6-64fc901ca870",
   "metadata": {},
   "outputs": [],
   "source": [
    "# Function to predict real or fake news with confidence\n",
    "def predict_news(news_text):\n",
    "    try:\n",
    "        # Transform the input text using the loaded vectorizer\n",
    "        text_tfidf = tfidf.transform([news_text])\n",
    "        # Get prediction probabilities\n",
    "        prediction_prob = model.predict_proba(text_tfidf)\n",
    "        # Get the predicted class (0 for fake, 1 for real)\n",
    "        prediction = model.predict(text_tfidf)\n",
    "\n",
    "        # Probability of the prediction\n",
    "        prob = prediction_prob[0][prediction[0]] * 100  # Convert to percentage\n",
    "        label = \"TRUE\" if prediction[0] == 1 else \"FALSE\"\n",
    "\n",
    "        # Determine the message based on confidence benchmarks\n",
    "        if 40 <= prob <= 60:\n",
    "            return f\"This information is possibly {label} with a confidence level of {prob:.2f}%.\"\n",
    "        elif 66.01 <= prob <= 70:\n",
    "            return f\"This information is likely {label} with a confidence level of {prob:.2f}%.\"\n",
    "        else:\n",
    "            return f\"This information is {label}!\"\n",
    "\n",
    "    except Exception as e:\n",
    "        return f\"An error occurred during prediction: {str(e)}\""
   ]
  },
  {
   "cell_type": "code",
   "execution_count": 17,
   "id": "f4991381-4075-4d08-8629-c1a2e38ace89",
   "metadata": {},
   "outputs": [
    {
     "name": "stdin",
     "output_type": "stream",
     "text": [
      "Enter a news article:  fsdfsafafasd\n"
     ]
    },
    {
     "name": "stdout",
     "output_type": "stream",
     "text": [
      "This information is likely FALSE with a confidence level of 69.15%.\n"
     ]
    }
   ],
   "source": [
    "# Example news to test\n",
    "news_to_test = input(\"Enter a news article: \")\n",
    "result = predict_news(news_to_test)\n",
    "print(result)\n"
   ]
  },
  {
   "cell_type": "code",
   "execution_count": null,
   "id": "42a44a2e-5f19-45b5-9f9c-d22eef62789c",
   "metadata": {},
   "outputs": [],
   "source": []
  }
 ],
 "metadata": {
  "kernelspec": {
   "display_name": "Python 3 (ipykernel)",
   "language": "python",
   "name": "python3"
  },
  "language_info": {
   "codemirror_mode": {
    "name": "ipython",
    "version": 3
   },
   "file_extension": ".py",
   "mimetype": "text/x-python",
   "name": "python",
   "nbconvert_exporter": "python",
   "pygments_lexer": "ipython3",
   "version": "3.12.4"
  }
 },
 "nbformat": 4,
 "nbformat_minor": 5
}
