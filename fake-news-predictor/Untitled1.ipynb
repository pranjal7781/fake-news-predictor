{
 "cells": [
  {
   "cell_type": "code",
   "execution_count": 1,
   "id": "de18c71f-a020-40c9-b3af-81f5535e258d",
   "metadata": {},
   "outputs": [],
   "source": [
    "import os\n",
    "import re\n",
    "import pickle\n",
    "import pandas as pd\n",
    "from sklearn.feature_extraction.text import TfidfVectorizer\n",
    "from sklearn.model_selection import train_test_split\n",
    "from sklearn.ensemble import RandomForestClassifier\n",
    "from sklearn.linear_model import LogisticRegression\n",
    "from xgboost import XGBClassifier\n",
    "from sklearn.metrics import accuracy_score, classification_report"
   ]
  },
  {
   "cell_type": "code",
   "execution_count": 3,
   "id": "e5ad704d-91f6-4b3a-aa36-65f3d79ba145",
   "metadata": {},
   "outputs": [],
   "source": [
    "def clean_text(text):\n",
    "    text = str(text).lower()\n",
    "    text = re.sub(r'http\\S+', '', text)  # Remove URLs\n",
    "    text = re.sub(r'[^a-zA-Z\\s]', '', text)  # Remove non-alphabetic\n",
    "    text = re.sub(r'\\s+', ' ', text).strip()  # Normalize spaces\n",
    "    return text"
   ]
  },
  {
   "cell_type": "code",
   "execution_count": 5,
   "id": "b0f8dd3d-9d19-4b03-a79e-2465078a7567",
   "metadata": {},
   "outputs": [],
   "source": [
    "def main():\n",
    "    os.makedirs(\"models\", exist_ok=True)\n",
    "\n",
    "    print(\"Loading data...\")\n",
    "    fake_data = pd.read_csv(\"data/dataset_fake.csv\", header=None, names=[\"id\", \"text\"], usecols=[\"text\"], quotechar='\"', on_bad_lines=\"skip\")\n",
    "    real_data = pd.read_csv(\"data/dataset_true.csv\", header=None, names=[\"id\", \"text\"], usecols=[\"text\"], quotechar='\"', on_bad_lines=\"skip\")\n",
    "\n",
    "    fake_data[\"label\"] = 0\n",
    "    real_data[\"label\"] = 1\n",
    "\n",
    "    data = pd.concat([fake_data, real_data], ignore_index=True)\n",
    "    data = data.sample(frac=1, random_state=42).reset_index(drop=True)\n",
    "    data[\"text\"] = data[\"text\"].fillna(\"\")\n",
    "\n",
    "    print(\"Cleaning text data...\")\n",
    "    data[\"text\"] = data[\"text\"].apply(clean_text)\n",
    "\n",
    "    print(\"Vectorizing text data...\")\n",
    "    tfidf = TfidfVectorizer(stop_words='english', max_df=0.7, min_df=5, ngram_range=(1, 2))\n",
    "    X_tfidf = tfidf.fit_transform(data[\"text\"])\n",
    "    y = data[\"label\"]\n",
    "\n",
    "    X_train, X_test, y_train, y_test = train_test_split(X_tfidf, y, test_size=0.2, random_state=42)\n",
    "\n",
    "    print(\"Training models...\")\n",
    "    models = {\n",
    "        \"random_forest\": RandomForestClassifier(n_estimators=200, max_depth=None, n_jobs=-1, random_state=42),\n",
    "        \"logistic_regression\": LogisticRegression(max_iter=1000, random_state=42),\n",
    "        \"xgboost\": XGBClassifier(use_label_encoder=False, eval_metric='logloss', random_state=42)\n",
    "    }\n",
    "\n",
    "    results = {}\n",
    "    for name, model in models.items():\n",
    "        model.fit(X_train, y_train)\n",
    "        preds = model.predict(X_test)\n",
    "        accuracy = accuracy_score(y_test, preds)\n",
    "        results[name] = (model, accuracy)\n",
    "        print(f\"{name.replace('_', ' ').title()} Accuracy: {accuracy:.4f}\")\n",
    "\n",
    "    best_model_name, (best_model, best_accuracy) = max(results.items(), key=lambda item: item[1][1])\n",
    "    print(f\"\\nBest model: {best_model_name} with accuracy {best_accuracy:.4f}\")\n",
    "\n",
    "    with open(\"models/fake_news_model.pkl\", \"wb\") as model_file:\n",
    "        pickle.dump(best_model, model_file)\n",
    "\n",
    "    with open(\"models/tfidf_vectorizer.pkl\", \"wb\") as vectorizer_file:\n",
    "        pickle.dump(tfidf, vectorizer_file)\n",
    "\n",
    "    print(\"\\nModel and vectorizer saved in 'models' folder.\")\n",
    "    print(\"\\nClassification Report:\")\n",
    "    best_preds = best_model.predict(X_test)\n",
    "    print(classification_report(y_test, best_preds))"
   ]
  },
  {
   "cell_type": "code",
   "execution_count": 7,
   "id": "89129a70-1e2e-4498-9b70-7c156e73e98b",
   "metadata": {},
   "outputs": [
    {
     "name": "stdout",
     "output_type": "stream",
     "text": [
      "Loading data...\n",
      "Cleaning text data...\n",
      "Vectorizing text data...\n",
      "Training models...\n",
      "Random Forest Accuracy: 0.9723\n",
      "Logistic Regression Accuracy: 0.9749\n"
     ]
    },
    {
     "name": "stderr",
     "output_type": "stream",
     "text": [
      "D:\\anaconda\\Lib\\site-packages\\xgboost\\core.py:158: UserWarning: [19:48:30] WARNING: C:\\buildkite-agent\\builds\\buildkite-windows-cpu-autoscaling-group-i-0c55ff5f71b100e98-1\\xgboost\\xgboost-ci-windows\\src\\learner.cc:740: \n",
      "Parameters: { \"use_label_encoder\" } are not used.\n",
      "\n",
      "  warnings.warn(smsg, UserWarning)\n"
     ]
    },
    {
     "name": "stdout",
     "output_type": "stream",
     "text": [
      "Xgboost Accuracy: 0.9803\n",
      "\n",
      "Best model: xgboost with accuracy 0.9803\n",
      "\n",
      "Model and vectorizer saved in 'models' folder.\n",
      "\n",
      "Classification Report:\n",
      "              precision    recall  f1-score   support\n",
      "\n",
      "           0       0.98      0.99      0.98      4558\n",
      "           1       0.99      0.97      0.98      4431\n",
      "\n",
      "    accuracy                           0.98      8989\n",
      "   macro avg       0.98      0.98      0.98      8989\n",
      "weighted avg       0.98      0.98      0.98      8989\n",
      "\n"
     ]
    }
   ],
   "source": [
    "if __name__ == \"__main__\":\n",
    "    main()"
   ]
  },
  {
   "cell_type": "code",
   "execution_count": null,
   "id": "d611f657-86f5-4601-88e9-338692cf8b58",
   "metadata": {},
   "outputs": [],
   "source": []
  }
 ],
 "metadata": {
  "kernelspec": {
   "display_name": "Python 3 (ipykernel)",
   "language": "python",
   "name": "python3"
  },
  "language_info": {
   "codemirror_mode": {
    "name": "ipython",
    "version": 3
   },
   "file_extension": ".py",
   "mimetype": "text/x-python",
   "name": "python",
   "nbconvert_exporter": "python",
   "pygments_lexer": "ipython3",
   "version": "3.12.4"
  }
 },
 "nbformat": 4,
 "nbformat_minor": 5
}
